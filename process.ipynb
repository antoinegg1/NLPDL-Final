{
 "cells": [
  {
   "cell_type": "code",
   "execution_count": 1,
   "metadata": {},
   "outputs": [
    {
     "name": "stdout",
     "output_type": "stream",
     "text": [
      "Dataset({\n",
      "    features: ['directory', 'filename', 'texts'],\n",
      "    num_rows: 18101\n",
      "})\n"
     ]
    }
   ],
   "source": [
    "from datasets import load_from_disk, concatenate_datasets\n",
    "\n",
    "# 加载多个数据集\n",
    "dataset1 = load_from_disk(\"/mnt/file2/changye/dataset/ACL_clear/A\")\n",
    "dataset2 = load_from_disk(\"/mnt/file2/changye/dataset/ACL_clear/B\")\n",
    "dataset3 = load_from_disk(\"/mnt/file2/changye/dataset/ACL_clear/C\")\n",
    "dataset4 = load_from_disk(\"/mnt/file2/changye/dataset/ACL_clear/D\")\n",
    "dataset5 = load_from_disk(\"/mnt/file2/changye/dataset/ACL_clear/E\")\n",
    "\n",
    "# 合并数据集\n",
    "combined_dataset = concatenate_datasets([dataset1, dataset2,dataset3,dataset4,dataset5])\n",
    "\n",
    "print(combined_dataset)\n"
   ]
  },
  {
   "cell_type": "code",
   "execution_count": 2,
   "metadata": {},
   "outputs": [
    {
     "name": "stdout",
     "output_type": "stream",
     "text": [
      "Train dataset size: 14480\n",
      "Validation dataset size: 1810\n",
      "Test dataset size: 1811\n"
     ]
    }
   ],
   "source": [
    "train_test_split = combined_dataset.train_test_split(test_size=0.2, seed=42)\n",
    "\n",
    "# 再将临时集拆分为验证集和测试集（各占 50%，即总数据的 10%）\n",
    "val_test_split = train_test_split['test'].train_test_split(test_size=0.5, seed=42)\n",
    "\n",
    "# 最终数据集\n",
    "final_dataset = {\n",
    "    'train': train_test_split['train'],\n",
    "    'val': val_test_split['train'],\n",
    "    'test': val_test_split['test']\n",
    "}\n",
    "\n",
    "# 打印拆分后的数据集信息\n",
    "print(\"Train dataset size:\", len(final_dataset['train']))\n",
    "print(\"Validation dataset size:\", len(final_dataset['val']))\n",
    "print(\"Test dataset size:\", len(final_dataset['test']))"
   ]
  },
  {
   "cell_type": "code",
   "execution_count": 3,
   "metadata": {},
   "outputs": [
    {
     "name": "stderr",
     "output_type": "stream",
     "text": [
      "Saving the dataset (1/1 shards): 100%|██████████| 14480/14480 [00:00<00:00, 23457.83 examples/s]\n",
      "Saving the dataset (1/1 shards): 100%|██████████| 1810/1810 [00:00<00:00, 25127.31 examples/s]\n",
      "Saving the dataset (1/1 shards): 100%|██████████| 1811/1811 [00:00<00:00, 26035.33 examples/s]\n"
     ]
    }
   ],
   "source": [
    "output_dir = \"/mnt/file2/changye/dataset/ACL_clear\"  # 设置保存目录\n",
    "final_dataset['train'].save_to_disk(f\"{output_dir}/train\")\n",
    "final_dataset['val'].save_to_disk(f\"{output_dir}/val\")\n",
    "final_dataset['test'].save_to_disk(f\"{output_dir}/test\")\n"
   ]
  }
 ],
 "metadata": {
  "kernelspec": {
   "display_name": "sae",
   "language": "python",
   "name": "python3"
  },
  "language_info": {
   "codemirror_mode": {
    "name": "ipython",
    "version": 3
   },
   "file_extension": ".py",
   "mimetype": "text/x-python",
   "name": "python",
   "nbconvert_exporter": "python",
   "pygments_lexer": "ipython3",
   "version": "3.10.16"
  }
 },
 "nbformat": 4,
 "nbformat_minor": 2
}
